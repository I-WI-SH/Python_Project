{
 "cells": [
  {
   "cell_type": "code",
   "execution_count": 4,
   "metadata": {},
   "outputs": [
    {
     "name": "stdout",
     "output_type": "stream",
     "text": [
      "current work dir: /home/pgw/penguowei/pythonLearn/alien_invasion\n"
     ]
    }
   ],
   "source": [
    "from PIL import Image\n",
    "import os\n",
    "print(f\"current work dir: {os.getcwd()}\")\n",
    "\n",
    "# os.chdir(\"./\")\n",
    "\n",
    "\n",
    "img = Image.open(\"./image/ship.png\")"
   ]
  },
  {
   "cell_type": "code",
   "execution_count": 5,
   "metadata": {},
   "outputs": [],
   "source": [
    "img.save(\"./image/ship.bmp\")"
   ]
  }
 ],
 "metadata": {
  "kernelspec": {
   "display_name": "python3.13",
   "language": "python",
   "name": "python3"
  },
  "language_info": {
   "codemirror_mode": {
    "name": "ipython",
    "version": 3
   },
   "file_extension": ".py",
   "mimetype": "text/x-python",
   "name": "python",
   "nbconvert_exporter": "python",
   "pygments_lexer": "ipython3",
   "version": "3.13.0"
  }
 },
 "nbformat": 4,
 "nbformat_minor": 2
}
